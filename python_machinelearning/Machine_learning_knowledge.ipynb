{
 "cells": [
  {
   "cell_type": "markdown",
   "metadata": {},
   "source": [
    "# <center> Machine Learning Knowledge <center> "
   ]
  },
  {
   "cell_type": "markdown",
   "metadata": {},
   "source": [
    "## <font color=blue>Confusion Matrix:</font>   \n",
    "### 1. visualize the performance of a classifier \n",
    "<img align=\"center\" width=\"700\" height=\"700\" src=\"https://miro.medium.com/max/712/1*Z54JgbS4DUwWSknhDCvNTQ.png\">\n",
    "\n",
    "### 2. confusion matrix  \n",
    "#### > where: P = positive; N = Negative; TP = True Positive; FP = False Positive; TN = True Negative; FN = False Negative. \n",
    "\n",
    "#### > false positive (FP) eqv.  Type I error \n",
    "  \n",
    "#### > false negative (FN) eqv.  Type II error  \n",
    "\n",
    "#### > sensitivity, or true positive rate (TPR): \n",
    "\n",
    "<img align=\"center\" width=\"300\" height=\"300\" src=\"https://wikimedia.org/api/rest_v1/media/math/render/svg/f02ea353bf60bfdd9557d2c98fe18c34cd8db835\">\n",
    "\n",
    "#### > specificity or true negative rate (TNR): \n",
    "\n",
    "<img align=\"center\" width=\"300\" height=\"300\" src=\"https://wikimedia.org/api/rest_v1/media/math/render/svg/8f2c867f0641e498ec8a59de63697a3a45d66b07\">\n",
    "\n",
    "#### > where FPR = 1 - specificity\n",
    "\n",
    "#### > more clear: \n",
    "\n",
    "<img align=\"center\" width=\"700\" height=\"700\" src=\"https://miro.medium.com/max/552/1*uR09zTlPgIj5PvMYJZScVg.png\">"
   ]
  },
  {
   "cell_type": "markdown",
   "metadata": {},
   "source": [
    "## <font color=blue>ROC curve and AUC:</font>  \n",
    "\n",
    "<img align=\"center\" width=\"500\" height=\"500\" src=\"https://miro.medium.com/max/722/1*pk05QGzoWhCgRiiFbz-oKQ.png\">"
   ]
  }
 ],
 "metadata": {
  "kernelspec": {
   "display_name": "Python 3",
   "language": "python",
   "name": "python3"
  },
  "language_info": {
   "codemirror_mode": {
    "name": "ipython",
    "version": 3
   },
   "file_extension": ".py",
   "mimetype": "text/x-python",
   "name": "python",
   "nbconvert_exporter": "python",
   "pygments_lexer": "ipython3",
   "version": "3.7.6"
  }
 },
 "nbformat": 4,
 "nbformat_minor": 4
}
