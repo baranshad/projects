{
 "cells": [
  {
   "cell_type": "markdown",
   "metadata": {},
   "source": [
    "# advanced python -- class decorators"
   ]
  },
  {
   "cell_type": "code",
   "execution_count": 2,
   "metadata": {},
   "outputs": [],
   "source": [
    "class x:\n",
    "    def __init__(self):\n",
    "        print(\"An instance or object was initialized\")\n",
    "        \n",
    "    def __call__(self, *args, **kwargs):  ## **kwargs are going to be dictionaries\n",
    "        print(\"Arguments are \", args, kwargs)"
   ]
  },
  {
   "cell_type": "code",
   "execution_count": 5,
   "metadata": {},
   "outputs": [
    {
     "name": "stdout",
     "output_type": "stream",
     "text": [
      "An instance or object was initialized\n",
      "calling objects or arguments\n",
      "Arguments are  (4, 5) {'z': 12, 'v': 20}\n"
     ]
    }
   ],
   "source": [
    "a= x()\n",
    "print(\"calling objects or arguments\")\n",
    "a(4,5, z= 12, v= 20)"
   ]
  },
  {
   "cell_type": "code",
   "execution_count": 6,
   "metadata": {},
   "outputs": [
    {
     "name": "stdout",
     "output_type": "stream",
     "text": [
      "calling Call function  again\n",
      "Arguments are  (8, 9) {'r': 30, 't': 40}\n"
     ]
    }
   ],
   "source": [
    "print(\"calling Call function  again\")\n",
    "a(8,9, r = 30, t= 40)"
   ]
  },
  {
   "cell_type": "code",
   "execution_count": 9,
   "metadata": {},
   "outputs": [],
   "source": [
    "def x(): \n",
    "    print(\"Doing something using function decorators\")\n",
    "    def y():\n",
    "        print(\"naming \" + x.__name__)\n",
    "    return y "
   ]
  },
  {
   "cell_type": "code",
   "execution_count": 10,
   "metadata": {},
   "outputs": [
    {
     "name": "stdout",
     "output_type": "stream",
     "text": [
      "Doing something using function decorators\n",
      "naming x\n"
     ]
    }
   ],
   "source": [
    "def repeatable():\n",
    "    c = x()\n",
    "    d = c()\n",
    "    \n",
    "repeatable()"
   ]
  },
  {
   "cell_type": "markdown",
   "metadata": {},
   "source": [
    "## class decorator "
   ]
  },
  {
   "cell_type": "code",
   "execution_count": 11,
   "metadata": {},
   "outputs": [
    {
     "name": "stdout",
     "output_type": "stream",
     "text": [
      "doing something using class decorator\n",
      "namingx\n"
     ]
    }
   ],
   "source": [
    "class x:\n",
    "    def __init__(self):\n",
    "        print(\"doing something using class decorator\")\n",
    "        \n",
    "    def __call__(self):\n",
    "        print(\"naming\" + x.__name__)\n",
    "    \n",
    "def repeatable():\n",
    "    c = x()\n",
    "    c() ## becasue __call__ function does not expect any argument \n",
    "    \n",
    "repeatable()"
   ]
  },
  {
   "cell_type": "code",
   "execution_count": null,
   "metadata": {},
   "outputs": [],
   "source": []
  },
  {
   "cell_type": "code",
   "execution_count": null,
   "metadata": {},
   "outputs": [],
   "source": []
  },
  {
   "cell_type": "code",
   "execution_count": null,
   "metadata": {},
   "outputs": [],
   "source": []
  }
 ],
 "metadata": {
  "kernelspec": {
   "display_name": "Python 3",
   "language": "python",
   "name": "python3"
  },
  "language_info": {
   "codemirror_mode": {
    "name": "ipython",
    "version": 3
   },
   "file_extension": ".py",
   "mimetype": "text/x-python",
   "name": "python",
   "nbconvert_exporter": "python",
   "pygments_lexer": "ipython3",
   "version": "3.7.6"
  }
 },
 "nbformat": 4,
 "nbformat_minor": 4
}
