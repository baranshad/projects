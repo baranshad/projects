{
 "cells": [
  {
   "cell_type": "markdown",
   "metadata": {},
   "source": [
    "# 13. Roman to Integer\n",
    "\n",
    "Roman numerals are represented by seven different symbols: I, V, X, L, C, D and M.\n",
    "\n",
    "Symbol       Value\n",
    "I             1\n",
    "V             5\n",
    "X             10\n",
    "L             50\n",
    "C             100\n",
    "D             500\n",
    "M             1000\n",
    "\n",
    "For example, two is written as II in Roman numeral, just two one's added together. Twelve is written as, XII, which is simply X + II. The number twenty seven is written as XXVII, which is XX + V + II.\n",
    "\n",
    "Roman numerals are usually written largest to smallest from left to right. However, the numeral for four is not IIII. Instead, the number four is written as IV. Because the one is before the five we subtract it making four. The same principle applies to the number nine, which is written as IX. There are six instances where subtraction is used:\n",
    "\n",
    "I can be placed before V (5) and X (10) to make 4 and 9. \n",
    "X can be placed before L (50) and C (100) to make 40 and 90. \n",
    "C can be placed before D (500) and M (1000) to make 400 and 900.\n",
    "Given a roman numeral, convert it to an integer. Input is guaranteed to be within the range from 1 to 3999.\n"
   ]
  },
  {
   "cell_type": "code",
   "execution_count": 7,
   "metadata": {},
   "outputs": [],
   "source": [
    "def romanToInt(s):\n",
    "     if \"IV\" in s: \n",
    "        s= s.replace('IV', 'A')\n",
    "     if \"IX\" in s: \n",
    "        s= s.replace('IX', 'B')\n",
    "     if \"XL\" in s: \n",
    "        s= s.replace('XL', 'E')\n",
    "     if \"XC\" in s: \n",
    "        s= s.replace('XC', 'F')\n",
    "     if \"CD\" in s: \n",
    "        s= s.replace('CD', 'G')\n",
    "     if \"CM\" in s: \n",
    "        s= s.replace('CM', 'H')\n",
    "     else: \n",
    "        s = s \n",
    "     l = ['I','A','V', 'B', 'X', 'E','L','F', 'C','G', 'D','H','M']\n",
    "     m = [1,4,5,9,10,40,50, 90,100,400,500, 900, 1000]\n",
    "     d = dict(zip(l, m))\n",
    "     if (sum([d[s] for s in list(s)]) > 3999) or (sum([d[s] for s in list(s)]) < 1): \n",
    "         raise ValueError\n",
    "     else: \n",
    "         return  sum([d[s] for s in list(s)])"
   ]
  },
  {
   "cell_type": "code",
   "execution_count": 8,
   "metadata": {},
   "outputs": [
    {
     "data": {
      "text/plain": [
       "1994"
      ]
     },
     "execution_count": 8,
     "metadata": {},
     "output_type": "execute_result"
    }
   ],
   "source": [
    "X= \"MCMXCIV\" \n",
    "romanToInt(X)"
   ]
  },
  {
   "cell_type": "code",
   "execution_count": 9,
   "metadata": {},
   "outputs": [
    {
     "data": {
      "text/plain": [
       "58"
      ]
     },
     "execution_count": 9,
     "metadata": {},
     "output_type": "execute_result"
    }
   ],
   "source": [
    "romanToInt(\"LVIII\")"
   ]
  }
 ],
 "metadata": {
  "kernelspec": {
   "display_name": "Python 3",
   "language": "python",
   "name": "python3"
  },
  "language_info": {
   "codemirror_mode": {
    "name": "ipython",
    "version": 3
   },
   "file_extension": ".py",
   "mimetype": "text/x-python",
   "name": "python",
   "nbconvert_exporter": "python",
   "pygments_lexer": "ipython3",
   "version": "3.7.6"
  }
 },
 "nbformat": 4,
 "nbformat_minor": 4
}
