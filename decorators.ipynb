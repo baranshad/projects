{
 "cells": [
  {
   "cell_type": "markdown",
   "metadata": {},
   "source": [
    "# <center>Advanced Python Decorators</center>   \n",
    "## <font color=blue>Two decorators:</font>  \n",
    "\n",
    "- function decorators\n",
    "- class decorators\n",
    "\n",
    "## <font color=blue> Definition: </font>  \n",
    "> A decorator in Python is any callable Python object that is used to modify a function or a class. A reference to a function or a class is passed to a decorator and the decorator returns a modified function or class. The modified functions or classes usually contian calls to the originial function or class. \n"
   ]
  },
  {
   "cell_type": "markdown",
   "metadata": {},
   "source": [
    "# <center>Functions Inside functions<center>"
   ]
  },
  {
   "cell_type": "code",
   "execution_count": 13,
   "metadata": {},
   "outputs": [
    {
     "name": "stdout",
     "output_type": "stream",
     "text": [
      "I am calling 'g' now\n",
      "Hi, it's me 'g'\n"
     ]
    }
   ],
   "source": [
    "def f():\n",
    "    def g():\n",
    "        print(\"Hi, it's me 'g'\")\n",
    "        \n",
    "    print(\"I am calling 'g' now\")\n",
    "    g()\n",
    "    \n",
    "f() ## g function is called inside of the f function "
   ]
  },
  {
   "cell_type": "markdown",
   "metadata": {},
   "source": [
    "# <center> Functions as Parameters <center> \n",
    "> Every parameter of a function is a reference to an object and functions are objects as well, so we can pass funcitons (reference to functions) as parameters to a function. "
   ]
  },
  {
   "cell_type": "code",
   "execution_count": 14,
   "metadata": {},
   "outputs": [
    {
     "name": "stdout",
     "output_type": "stream",
     "text": [
      "I am f\n",
      "I am g\n"
     ]
    }
   ],
   "source": [
    "def g(): \n",
    "    print(\"I am g\")\n",
    "    \n",
    "def f(functionaspar):\n",
    "    print(\"I am f\")\n",
    "    functionaspar() ## calling the functionaspar function \n",
    "    \n",
    "f(g) ## the g function is as the functionaspar function "
   ]
  },
  {
   "cell_type": "markdown",
   "metadata": {},
   "source": [
    "# <center> Functions returning Functions <center> "
   ]
  },
  {
   "cell_type": "code",
   "execution_count": 17,
   "metadata": {},
   "outputs": [
    {
     "name": "stdout",
     "output_type": "stream",
     "text": [
      "5\n",
      "7\n"
     ]
    }
   ],
   "source": [
    "def f(x):\n",
    "    def g(y):\n",
    "        return y+x+3 \n",
    "    return g\n",
    "\n",
    "nf1=f(1) ## assign x = 1 \n",
    "nf2 = f(3) ## assign x = 3 \n",
    "\n",
    "print(nf1(1)) ## assign y = 1 \n",
    "print(nf2(1)) ## assign y = 1\n"
   ]
  },
  {
   "cell_type": "markdown",
   "metadata": {},
   "source": [
    "# We can use the @ symbol along with the name of the decorator function and place it above the definition of the function to be decorated. "
   ]
  },
  {
   "cell_type": "code",
   "execution_count": 19,
   "metadata": {},
   "outputs": [
    {
     "name": "stdout",
     "output_type": "stream",
     "text": [
      "before calling foo\n",
      "hi, foo has been called with Hi\n",
      "after callingfoo\n"
     ]
    }
   ],
   "source": [
    "def our_decorator(func):\n",
    "    def function_wrapper(x):\n",
    "        print(\"before calling \"+ func.__name__)\n",
    "        func(x)\n",
    "        print(\"after calling\" + func.__name__)\n",
    "    return function_wrapper \n",
    "\n",
    "@our_decorator \n",
    "def foo(x): \n",
    "    print(\"hi, foo has been called with \"+ str(x))\n",
    "    \n",
    "foo(\"Hi\")"
   ]
  },
  {
   "cell_type": "markdown",
   "metadata": {},
   "source": [
    "# Above function is similar as : "
   ]
  },
  {
   "cell_type": "code",
   "execution_count": 24,
   "metadata": {},
   "outputs": [
    {
     "name": "stdout",
     "output_type": "stream",
     "text": [
      "before calling foo\n",
      "hi, foo has been called with Hi\n",
      "after callingfoo\n"
     ]
    }
   ],
   "source": [
    "def our_decorator(func):\n",
    "    def function_wrapper(x):\n",
    "        print(\"before calling \"+ func.__name__)\n",
    "        func(x)\n",
    "        print(\"after calling\" + func.__name__)\n",
    "    return function_wrapper \n",
    "\n",
    "def foo(x): \n",
    "    print(\"hi, foo has been called with \"+ str(x))\n",
    "    \n",
    "trydecorator=our_decorator(foo)\n",
    "trydecorator(\"Hi\")"
   ]
  },
  {
   "cell_type": "code",
   "execution_count": 2,
   "metadata": {},
   "outputs": [],
   "source": [
    "class x:\n",
    "    def __init__(self):\n",
    "        print(\"An instance or object was initialized\")\n",
    "        \n",
    "    def __call__(self, *args, **kwargs):  ## **kwargs are going to be dictionaries\n",
    "        print(\"Arguments are \", args, kwargs)"
   ]
  },
  {
   "cell_type": "code",
   "execution_count": 5,
   "metadata": {},
   "outputs": [
    {
     "name": "stdout",
     "output_type": "stream",
     "text": [
      "An instance or object was initialized\n",
      "calling objects or arguments\n",
      "Arguments are  (4, 5) {'z': 12, 'v': 20}\n"
     ]
    }
   ],
   "source": [
    "a= x()\n",
    "print(\"calling objects or arguments\")\n",
    "a(4,5, z= 12, v= 20)"
   ]
  },
  {
   "cell_type": "code",
   "execution_count": 6,
   "metadata": {},
   "outputs": [
    {
     "name": "stdout",
     "output_type": "stream",
     "text": [
      "calling Call function  again\n",
      "Arguments are  (8, 9) {'r': 30, 't': 40}\n"
     ]
    }
   ],
   "source": [
    "print(\"calling Call function  again\")\n",
    "a(8,9, r = 30, t= 40)"
   ]
  },
  {
   "cell_type": "code",
   "execution_count": 9,
   "metadata": {},
   "outputs": [],
   "source": [
    "def x(): \n",
    "    print(\"Doing something using function decorators\")\n",
    "    def y():\n",
    "        print(\"naming \" + x.__name__)\n",
    "    return y "
   ]
  },
  {
   "cell_type": "code",
   "execution_count": 10,
   "metadata": {},
   "outputs": [
    {
     "name": "stdout",
     "output_type": "stream",
     "text": [
      "Doing something using function decorators\n",
      "naming x\n"
     ]
    }
   ],
   "source": [
    "def repeatable():\n",
    "    c = x()\n",
    "    d = c()\n",
    "    \n",
    "repeatable()"
   ]
  },
  {
   "cell_type": "markdown",
   "metadata": {},
   "source": [
    "## class decorator "
   ]
  },
  {
   "cell_type": "code",
   "execution_count": 11,
   "metadata": {},
   "outputs": [
    {
     "name": "stdout",
     "output_type": "stream",
     "text": [
      "doing something using class decorator\n",
      "namingx\n"
     ]
    }
   ],
   "source": [
    "class x:\n",
    "    def __init__(self):\n",
    "        print(\"doing something using class decorator\")\n",
    "        \n",
    "    def __call__(self):\n",
    "        print(\"naming\" + x.__name__)\n",
    "    \n",
    "def repeatable():\n",
    "    c = x()\n",
    "    c() ## becasue __call__ function does not expect any argument \n",
    "    \n",
    "repeatable()"
   ]
  },
  {
   "cell_type": "code",
   "execution_count": null,
   "metadata": {},
   "outputs": [],
   "source": []
  },
  {
   "cell_type": "code",
   "execution_count": null,
   "metadata": {},
   "outputs": [],
   "source": []
  },
  {
   "cell_type": "code",
   "execution_count": null,
   "metadata": {},
   "outputs": [],
   "source": []
  }
 ],
 "metadata": {
  "kernelspec": {
   "display_name": "Python 3",
   "language": "python",
   "name": "python3"
  },
  "language_info": {
   "codemirror_mode": {
    "name": "ipython",
    "version": 3
   },
   "file_extension": ".py",
   "mimetype": "text/x-python",
   "name": "python",
   "nbconvert_exporter": "python",
   "pygments_lexer": "ipython3",
   "version": "3.7.6"
  }
 },
 "nbformat": 4,
 "nbformat_minor": 4
}
