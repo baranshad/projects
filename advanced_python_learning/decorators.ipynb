{
 "cells": [
  {
   "cell_type": "markdown",
   "metadata": {},
   "source": [
    "# <center>Advanced Python Decorators</center>   \n",
    "## <font color=blue>Two decorators:</font>  \n",
    "\n",
    "- function decorators\n",
    "- class decorators\n",
    "\n",
    "## <font color=blue> Definition: </font>  \n",
    "> A decorator in Python is any callable Python object that is used to modify a function or a class. A reference to a function or a class is passed to a decorator and the decorator returns a modified function or class. The modified functions or classes usually contian calls to the originial function or class. \n"
   ]
  },
  {
   "cell_type": "markdown",
   "metadata": {},
   "source": [
    "# <center>Functions Inside functions<center>"
   ]
  },
  {
   "cell_type": "code",
   "execution_count": 13,
   "metadata": {},
   "outputs": [
    {
     "name": "stdout",
     "output_type": "stream",
     "text": [
      "I am calling 'g' now\n",
      "Hi, it's me 'g'\n"
     ]
    }
   ],
   "source": [
    "def f():\n",
    "    def g():\n",
    "        print(\"Hi, it's me 'g'\")\n",
    "        \n",
    "    print(\"I am calling 'g' now\")\n",
    "    g()\n",
    "    \n",
    "f() ## g function is called inside of the f function "
   ]
  },
  {
   "cell_type": "markdown",
   "metadata": {},
   "source": [
    "# <center> Functions as Parameters <center> \n",
    "> Every parameter of a function is a reference to an object and functions are objects as well, so we can pass funcitons (reference to functions) as parameters to a function. "
   ]
  },
  {
   "cell_type": "code",
   "execution_count": 14,
   "metadata": {},
   "outputs": [
    {
     "name": "stdout",
     "output_type": "stream",
     "text": [
      "I am f\n",
      "I am g\n"
     ]
    }
   ],
   "source": [
    "def g(): \n",
    "    print(\"I am g\")\n",
    "    \n",
    "def f(functionaspar):\n",
    "    print(\"I am f\")\n",
    "    functionaspar() ## calling the functionaspar function \n",
    "    \n",
    "f(g) ## the g function is as the functionaspar function "
   ]
  },
  {
   "cell_type": "markdown",
   "metadata": {},
   "source": [
    "# <center> Functions returning Functions <center> "
   ]
  },
  {
   "cell_type": "code",
   "execution_count": 17,
   "metadata": {},
   "outputs": [
    {
     "name": "stdout",
     "output_type": "stream",
     "text": [
      "5\n",
      "7\n"
     ]
    }
   ],
   "source": [
    "def f(x):\n",
    "    def g(y):\n",
    "        return y+x+3 \n",
    "    return g\n",
    "\n",
    "nf1=f(1) ## assign x = 1 \n",
    "nf2 = f(3) ## assign x = 3 \n",
    "\n",
    "print(nf1(1)) ## assign y = 1 \n",
    "print(nf2(1)) ## assign y = 1\n"
   ]
  },
  {
   "cell_type": "markdown",
   "metadata": {},
   "source": [
    "# We can use the @ symbol along with the name of the decorator function and place it above the definition of the function to be decorated. "
   ]
  },
  {
   "cell_type": "code",
   "execution_count": 19,
   "metadata": {},
   "outputs": [
    {
     "name": "stdout",
     "output_type": "stream",
     "text": [
      "before calling foo\n",
      "hi, foo has been called with Hi\n",
      "after callingfoo\n"
     ]
    }
   ],
   "source": [
    "def our_decorator(func):\n",
    "    def function_wrapper(x):\n",
    "        print(\"before calling \"+ func.__name__)\n",
    "        func(x)\n",
    "        print(\"after calling\" + func.__name__)\n",
    "    return function_wrapper \n",
    "\n",
    "@our_decorator \n",
    "def foo(x): \n",
    "    print(\"hi, foo has been called with \"+ str(x))\n",
    "    \n",
    "foo(\"Hi\")"
   ]
  },
  {
   "cell_type": "markdown",
   "metadata": {},
   "source": [
    "# Above function is similar as : "
   ]
  },
  {
   "cell_type": "code",
   "execution_count": 25,
   "metadata": {},
   "outputs": [
    {
     "name": "stdout",
     "output_type": "stream",
     "text": [
      "before calling foo\n",
      "hi, foo has been called with Hi\n",
      "after callingfoo\n"
     ]
    }
   ],
   "source": [
    "def our_decorator(func):\n",
    "    def function_wrapper(x):\n",
    "        print(\"before calling \"+ func.__name__)\n",
    "        func(x)\n",
    "        print(\"after calling\" + func.__name__)\n",
    "    return function_wrapper \n",
    "\n",
    "def foo(x): \n",
    "    print(\"hi, foo has been called with \"+ str(x))\n",
    "    \n",
    "trydecorator=our_decorator(foo)\n",
    "trydecorator(\"Hi\")"
   ]
  },
  {
   "cell_type": "markdown",
   "metadata": {},
   "source": [
    "# <center> The fcuntion decorated with arbitrary parameters<center> "
   ]
  },
  {
   "cell_type": "markdown",
   "metadata": {},
   "source": [
    "# Example: "
   ]
  },
  {
   "cell_type": "code",
   "execution_count": 27,
   "metadata": {},
   "outputs": [
    {
     "name": "stdout",
     "output_type": "stream",
     "text": [
      "before calling random\n",
      "0.919692524186017\n",
      "after calling random\n",
      "before calling randint\n",
      "5\n",
      "after calling randint\n",
      "before calling choice\n",
      "4\n",
      "after calling choice\n"
     ]
    }
   ],
   "source": [
    "from random import random, randint, choice \n",
    "def our_decorator(func):\n",
    "    def function_wrapper(*args, **kwargs):\n",
    "        print(\"before calling \"+ func.__name__)\n",
    "        res = func(*args, **kwargs)\n",
    "        print(res)\n",
    "        print(\"after calling \"+ func.__name__)\n",
    "    return function_wrapper \n",
    "\n",
    "random = our_decorator(random)\n",
    "randint = our_decorator(randint)\n",
    "choice = our_decorator(choice) \n",
    "random()\n",
    "randint(3,8)\n",
    "choice([4,5,6])"
   ]
  },
  {
   "cell_type": "code",
   "execution_count": 9,
   "metadata": {},
   "outputs": [],
   "source": [
    "def x(): \n",
    "    print(\"Doing something using function decorators\")\n",
    "    def y():\n",
    "        print(\"naming \" + x.__name__)\n",
    "    return y "
   ]
  },
  {
   "cell_type": "code",
   "execution_count": 10,
   "metadata": {},
   "outputs": [
    {
     "name": "stdout",
     "output_type": "stream",
     "text": [
      "Doing something using function decorators\n",
      "naming x\n"
     ]
    }
   ],
   "source": [
    "def repeatable():\n",
    "    c = x()\n",
    "    d = c()\n",
    "    \n",
    "repeatable()"
   ]
  },
  {
   "cell_type": "markdown",
   "metadata": {},
   "source": [
    "# <center> Checking Arguments with a Decorator <center>"
   ]
  },
  {
   "cell_type": "markdown",
   "metadata": {},
   "source": [
    "## Example: \n",
    "> Ensure the argument passed to the function is a positibe integer. "
   ]
  },
  {
   "cell_type": "code",
   "execution_count": 36,
   "metadata": {},
   "outputs": [
    {
     "name": "stdout",
     "output_type": "stream",
     "text": [
      "24\n",
      "1 1\n",
      "2 2\n",
      "3 6\n",
      "4 24\n",
      "5 120\n",
      "6 720\n",
      "7 5040\n",
      "8 40320\n",
      "9 362880\n"
     ]
    },
    {
     "ename": "Exception",
     "evalue": "argument is not an integer",
     "output_type": "error",
     "traceback": [
      "\u001b[1;31m---------------------------------------------------------------------------\u001b[0m",
      "\u001b[1;31mException\u001b[0m                                 Traceback (most recent call last)",
      "\u001b[1;32m<ipython-input-36-1be21baed6f8>\u001b[0m in \u001b[0;36m<module>\u001b[1;34m\u001b[0m\n\u001b[0;32m     19\u001b[0m     \u001b[0mprint\u001b[0m\u001b[1;33m(\u001b[0m\u001b[0mi\u001b[0m\u001b[1;33m,\u001b[0m \u001b[0mfactorial\u001b[0m\u001b[1;33m(\u001b[0m\u001b[0mi\u001b[0m\u001b[1;33m)\u001b[0m\u001b[1;33m)\u001b[0m\u001b[1;33m\u001b[0m\u001b[1;33m\u001b[0m\u001b[0m\n\u001b[0;32m     20\u001b[0m \u001b[1;33m\u001b[0m\u001b[0m\n\u001b[1;32m---> 21\u001b[1;33m \u001b[0mprint\u001b[0m\u001b[1;33m(\u001b[0m\u001b[0mfactorial\u001b[0m\u001b[1;33m(\u001b[0m\u001b[1;33m-\u001b[0m\u001b[1;36m1\u001b[0m\u001b[1;33m)\u001b[0m\u001b[1;33m)\u001b[0m\u001b[1;33m\u001b[0m\u001b[1;33m\u001b[0m\u001b[0m\n\u001b[0m",
      "\u001b[1;32m<ipython-input-36-1be21baed6f8>\u001b[0m in \u001b[0;36mhelper\u001b[1;34m(x)\u001b[0m\n\u001b[0;32m      4\u001b[0m             \u001b[1;32mreturn\u001b[0m \u001b[0mf\u001b[0m\u001b[1;33m(\u001b[0m\u001b[0mx\u001b[0m\u001b[1;33m)\u001b[0m\u001b[1;33m\u001b[0m\u001b[1;33m\u001b[0m\u001b[0m\n\u001b[0;32m      5\u001b[0m         \u001b[1;32melse\u001b[0m\u001b[1;33m:\u001b[0m\u001b[1;33m\u001b[0m\u001b[1;33m\u001b[0m\u001b[0m\n\u001b[1;32m----> 6\u001b[1;33m             \u001b[1;32mraise\u001b[0m \u001b[0mException\u001b[0m\u001b[1;33m(\u001b[0m\u001b[1;34m\"argument is not an integer\"\u001b[0m\u001b[1;33m)\u001b[0m\u001b[1;33m\u001b[0m\u001b[1;33m\u001b[0m\u001b[0m\n\u001b[0m\u001b[0;32m      7\u001b[0m     \u001b[1;32mreturn\u001b[0m \u001b[0mhelper\u001b[0m\u001b[1;33m\u001b[0m\u001b[1;33m\u001b[0m\u001b[0m\n\u001b[0;32m      8\u001b[0m \u001b[1;33m\u001b[0m\u001b[0m\n",
      "\u001b[1;31mException\u001b[0m: argument is not an integer"
     ]
    }
   ],
   "source": [
    "def argument_test_natural_number(f):\n",
    "    def helper(x):\n",
    "        if type(x) == int and x > 0: \n",
    "            return f(x) \n",
    "        else: \n",
    "            raise Exception(\"argument is not an integer\")\n",
    "    return helper \n",
    "\n",
    "@argument_test_natural_number\n",
    "def factorial(n):\n",
    "    if n == 1:\n",
    "        return 1\n",
    "    else:\n",
    "        return n * factorial(n-1)    \n",
    "    \n",
    "print(factorial(4))\n",
    "    \n",
    "for i in range(1, 10):\n",
    "    print(i, factorial(i))\n",
    "    \n",
    "print(factorial(-1))"
   ]
  },
  {
   "cell_type": "code",
   "execution_count": 37,
   "metadata": {},
   "outputs": [
    {
     "name": "stdout",
     "output_type": "stream",
     "text": [
      "0\n",
      "10\n"
     ]
    }
   ],
   "source": [
    "def call_counter(func):\n",
    "    def helper(x):\n",
    "        helper.calls += 1 \n",
    "        return func(x) ## This inner function calls the original function (return func(x)) but it also increments the calls counter.\n",
    "    helper.calls = 0   ## This inner function is being inserted as a \"replacement\" for whatever function is being decorated. So when your module succ() function is looked up, \n",
    "    ##the result is a reference to the inner helper function returned by the decorator. That function increments the call counter and then calls the originally-defined succ function.\n",
    "    ##  initialise to 0 before you ran any of them\n",
    "    return helper \n",
    "\n",
    "@call_counter\n",
    "def succ(x):\n",
    "    return x + 1 \n",
    "\n",
    "print(succ.calls)\n",
    "for i in range(10):\n",
    "    succ(i)\n",
    "    \n",
    "print(succ.calls)"
   ]
  },
  {
   "cell_type": "code",
   "execution_count": 38,
   "metadata": {},
   "outputs": [
    {
     "name": "stdout",
     "output_type": "stream",
     "text": [
      "0\n"
     ]
    },
    {
     "data": {
      "text/plain": [
       "7"
      ]
     },
     "execution_count": 38,
     "metadata": {},
     "output_type": "execute_result"
    }
   ],
   "source": [
    "def call_counter(func):\n",
    "    def helper(*args, **kwargs): ## the arguments of helper is the same arguments of the func (succ here), it is modifying the func \n",
    "        helper.calls += 1 \n",
    "        return func(*args, **kwargs)\n",
    "    helper.calls = 0 \n",
    "    return helper \n",
    "\n",
    "@call_counter \n",
    "def succ(x):\n",
    "    return x+1 \n",
    "\n",
    "@call_counter \n",
    "def mul1(x, y=1):\n",
    "    return x*y +1 \n",
    "\n",
    "print(succ.calls)\n",
    "for i in range(10):\n",
    "    succ(i)\n",
    "    \n",
    "mul1(3,4)\n",
    "mul1(4)\n",
    "mul1(y=3, x=2)"
   ]
  },
  {
   "cell_type": "markdown",
   "metadata": {},
   "source": [
    "# <center> Decorators with parameters <center>"
   ]
  },
  {
   "cell_type": "code",
   "execution_count": 49,
   "metadata": {},
   "outputs": [
    {
     "name": "stdout",
     "output_type": "stream",
     "text": [
      "hello,foo  returns: \n",
      "42\n"
     ]
    }
   ],
   "source": [
    "def greeting(expr):\n",
    "    def greeting_decorator(func): ## function decorator\n",
    "        def function_wrapper(x): ## the argument of the decorator has the same argument of the function wanted to be decorated \n",
    "            print(expr + \",\" + func.__name__ + \"  returns: \") ## expr is hello here \n",
    "            func(x) ## call the function func(x) \n",
    "        return function_wrapper \n",
    "    return greeting_decorator \n",
    "\n",
    "@greeting(\"hello\")\n",
    "def foo(x): ## call the function func(x) which is foo(x) and this function will print out 42 \n",
    "    print(42)\n",
    "    \n",
    "foo(\"hi\")\n",
    "\n",
    "## the same as \n",
    "### greeting2 = greeting(\"Hi\")\n",
    "### foo = greeting2(foo)\n",
    "### foo(\"hi\")"
   ]
  },
  {
   "cell_type": "markdown",
   "metadata": {},
   "source": [
    "## When applying the decorator functions, the attributes \n",
    "- __name__ \n",
    "- __doc__ \n",
    "- __module__ \n",
    "> will also be modified "
   ]
  },
  {
   "cell_type": "code",
   "execution_count": 51,
   "metadata": {},
   "outputs": [],
   "source": [
    "from greeting_decorator import greeting "
   ]
  },
  {
   "cell_type": "code",
   "execution_count": 52,
   "metadata": {},
   "outputs": [
    {
     "name": "stdout",
     "output_type": "stream",
     "text": [
      "Hi, f returns: \n",
      "function name: function_wrapper\n",
      "docstring:function_wrapper of greeting\n",
      "module name: greeting_decorator\n"
     ]
    }
   ],
   "source": [
    "@greeting \n",
    "def f(x):\n",
    "    \"\"\"just some silly function\"\"\" \n",
    "    return x + 4 \n",
    "\n",
    "f(10)\n",
    "print(\"function name: \" + f.__name__)\n",
    "print(\"docstring:\" + f.__doc__) \n",
    "print(\"module name: \" + f.__module__)"
   ]
  },
  {
   "cell_type": "code",
   "execution_count": 54,
   "metadata": {},
   "outputs": [
    {
     "name": "stdout",
     "output_type": "stream",
     "text": [
      "Hi, f returns: \n",
      "function name: f\n",
      "docstring:just some silly function\n",
      "module name: __main__\n"
     ]
    }
   ],
   "source": [
    "from greeting_decorator_manually import greeting \n",
    "\n",
    "@greeting \n",
    "def f(x):\n",
    "    \"\"\"just some silly function\"\"\" \n",
    "    return x + 4 \n",
    "\n",
    "f(10)\n",
    "print(\"function name: \" + f.__name__)\n",
    "print(\"docstring:\" + f.__doc__) \n",
    "print(\"module name: \" + f.__module__)"
   ]
  },
  {
   "cell_type": "markdown",
   "metadata": {},
   "source": [
    "# <center> Class as decorator parameters <center> \n",
    "## The __CALL__ method : \n",
    "    > To define a decorator as a class, we have to introduce the __CALL__ method of classes. \n",
    "    > define classes in a way that the instances will be callable objects. "
   ]
  },
  {
   "cell_type": "code",
   "execution_count": 55,
   "metadata": {},
   "outputs": [
    {
     "name": "stdout",
     "output_type": "stream",
     "text": [
      "An instance or object was initialized\n",
      "calling objects or arguments\n",
      "Arguments are  (4, 5) {'z': 12, 'v': 20}\n",
      "calling Call function  again\n",
      "Arguments are  (8, 9) {'r': 30, 't': 40}\n"
     ]
    }
   ],
   "source": [
    "class x:\n",
    "    def __init__(self):\n",
    "        print(\"An instance or object was initialized\")\n",
    "        \n",
    "    def __call__(self, *args, **kwargs):  ## **kwargs are going to be dictionaries\n",
    "        print(\"Arguments are \", args, kwargs)\n",
    "        \n",
    "a= x()\n",
    "print(\"calling objects or arguments\")\n",
    "a(4,5, z= 12, v= 20)\n",
    "\n",
    "print(\"calling Call function  again\")\n",
    "a(8,9, r = 30, t= 40)"
   ]
  },
  {
   "cell_type": "markdown",
   "metadata": {},
   "source": [
    "# > Using A Class as a decorator"
   ]
  },
  {
   "cell_type": "code",
   "execution_count": 57,
   "metadata": {},
   "outputs": [
    {
     "name": "stdout",
     "output_type": "stream",
     "text": [
      "Decorating foo\n",
      "inside foo()\n"
     ]
    }
   ],
   "source": [
    "class decorator2:\n",
    "    def __init__(self, f):\n",
    "        self.f = f \n",
    "    \n",
    "    def __call__(self):\n",
    "        print(\"Decorating\", self.f.__name__)\n",
    "        self.f()\n",
    "        \n",
    "@decorator2 \n",
    "def foo():\n",
    "    print(\"inside foo()\")\n",
    "    \n",
    "foo()"
   ]
  },
  {
   "cell_type": "code",
   "execution_count": 58,
   "metadata": {},
   "outputs": [
    {
     "name": "stdout",
     "output_type": "stream",
     "text": [
      "doing something using class decorator\n",
      "namingx\n"
     ]
    }
   ],
   "source": [
    "class x:\n",
    "    def __init__(self):\n",
    "        print(\"doing something using class decorator\")\n",
    "        \n",
    "    def __call__(self):\n",
    "        print(\"naming\" + x.__name__)\n",
    "    \n",
    "def repeatable():\n",
    "    c = x()\n",
    "    c() ## becasue __call__ function does not expect any argument \n",
    "    \n",
    "repeatable()"
   ]
  }
 ],
 "metadata": {
  "kernelspec": {
   "display_name": "Python 3",
   "language": "python",
   "name": "python3"
  },
  "language_info": {
   "codemirror_mode": {
    "name": "ipython",
    "version": 3
   },
   "file_extension": ".py",
   "mimetype": "text/x-python",
   "name": "python",
   "nbconvert_exporter": "python",
   "pygments_lexer": "ipython3",
   "version": "3.7.6"
  }
 },
 "nbformat": 4,
 "nbformat_minor": 4
}
